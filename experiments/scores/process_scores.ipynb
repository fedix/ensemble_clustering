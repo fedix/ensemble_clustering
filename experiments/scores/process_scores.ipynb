{
 "cells": [
  {
   "cell_type": "code",
   "execution_count": 2,
   "id": "military-holder",
   "metadata": {},
   "outputs": [],
   "source": [
    "import pandas as pd\n",
    "import numpy as np\n",
    "import ast\n",
    "import matplotlib.pyplot as plt\n",
    "%config InlineBackend.figure_format ='retina'"
   ]
  },
  {
   "cell_type": "code",
   "execution_count": 3,
   "id": "nuclear-alberta",
   "metadata": {},
   "outputs": [],
   "source": [
    "def process(row):\n",
    "    row = str.replace(row, '[', '')\n",
    "    row = str.replace(row, ']', '')\n",
    "    lst = row.split()\n",
    "    return np.array(lst).astype(np.float)\n",
    "\n",
    "def parse_df(df):\n",
    "    for column in df.columns:\n",
    "        df[column] = df[column].apply(process)\n",
    "    return df"
   ]
  },
  {
   "cell_type": "code",
   "execution_count": 6,
   "id": "activated-fleet",
   "metadata": {},
   "outputs": [],
   "source": [
    "metrics = ['sil', 'ch', 'gd41', 'os']\n",
    "\n",
    "def transform(df, cols=metrics):\n",
    "    df = parse_df(df)\n",
    "    means = df.sum()/len(df)\n",
    "    \n",
    "    res = pd.DataFrame(np.stack(means), columns=cols)\n",
    "    res.index = means.index\n",
    "    return res\n",
    "\n",
    "\n",
    "def transform2(df, cols=metrics):\n",
    "    df = parse_df(df)\n",
    "        \n",
    "    res = pd.DataFrame()\n",
    "    for alg in df.columns:\n",
    "        tmp = pd.DataFrame(np.stack(df[alg]), columns=cols)\n",
    "        tmp = tmp.apply(lambda col: f\"{col.mean():.3f} ± {col.std():.3f}\")\n",
    "        res = res.append(pd.DataFrame(tmp).transpose())\n",
    "    res.index = df.columns\n",
    "    return res\n",
    "\n"
   ]
  },
  {
   "cell_type": "code",
   "execution_count": 7,
   "id": "owned-nancy",
   "metadata": {},
   "outputs": [],
   "source": [
    "def get_metric_stats(df, metric):\n",
    "    \n",
    "    metric_values = pd.DataFrame()\n",
    "    \n",
    "    for alg in df.columns:\n",
    "        metric_values[alg] = df[alg].apply(lambda a: a[metrics.index(metric)])\n",
    "    return metric_values"
   ]
  },
  {
   "cell_type": "code",
   "execution_count": 8,
   "id": "viral-samuel",
   "metadata": {},
   "outputs": [],
   "source": [
    "df = pd.read_csv(\"scores.csv\")\n",
    "res = transform(df, metrics)\n",
    "# res.to_csv(\"real_data_mean_scores1.csv\")"
   ]
  },
  {
   "cell_type": "code",
   "execution_count": 9,
   "id": "beneficial-twins",
   "metadata": {},
   "outputs": [],
   "source": [
    "res"
   ]
  },
  {
   "cell_type": "code",
   "execution_count": 44,
   "id": "numerous-milton",
   "metadata": {},
   "outputs": [
    {
     "data": {
      "text/html": [
       "<div>\n",
       "<table border=\"1\" class=\"dataframe\">\n",
       "  <thead>\n",
       "    <tr style=\"text-align: right;\">\n",
       "      <th></th>\n",
       "      <th>sil</th>\n",
       "      <th>ch</th>\n",
       "      <th>gd41</th>\n",
       "      <th>os</th>\n",
       "    </tr>\n",
       "  </thead>\n",
       "  <tbody>\n",
       "    <tr>\n",
       "      <th>k-means</th>\n",
       "      <td>0.395 ± 0.128</td>\n",
       "      <td>800.096 ± 761.416</td>\n",
       "      <td>0.059 ± 0.101</td>\n",
       "      <td>21.767 ± 77.655</td>\n",
       "    </tr>\n",
       "    <tr>\n",
       "      <th>lwea</th>\n",
       "      <td>0.125 ± 0.132</td>\n",
       "      <td>247.158 ± 189.042</td>\n",
       "      <td>0.035 ± 0.051</td>\n",
       "      <td>30.635 ± 121.063</td>\n",
       "    </tr>\n",
       "    <tr>\n",
       "      <th>monti</th>\n",
       "      <td>0.418 ± 0.145</td>\n",
       "      <td>625.724 ± 601.655</td>\n",
       "      <td>0.082 ± 0.133</td>\n",
       "      <td>127.671 ± 470.959</td>\n",
       "    </tr>\n",
       "  </tbody>\n",
       "</table>\n",
       "</div>"
      ],
      "text/plain": [
       "                   sil                 ch           gd41                 os\n",
       "k-means  0.395 ± 0.128  800.096 ± 761.416  0.059 ± 0.101    21.767 ± 77.655\n",
       "lwea     0.125 ± 0.132  247.158 ± 189.042  0.035 ± 0.051   30.635 ± 121.063\n",
       "monti    0.418 ± 0.145  625.724 ± 601.655  0.082 ± 0.133  127.671 ± 470.959"
      ]
     },
     "execution_count": 44,
     "metadata": {},
     "output_type": "execute_result"
    }
   ],
   "source": [
    "df = pd.read_csv(\"scores.csv\")\n",
    "df = df.drop([\"monti_fixed\"], axis=1)\n",
    "res = transform2(df, metrics)\n",
    "\n",
    "res.to_csv(\"real_data_mean_std_scores.csv\")\n",
    "res"
   ]
  },
  {
   "cell_type": "code",
   "execution_count": 45,
   "id": "vocal-malta",
   "metadata": {},
   "outputs": [
    {
     "data": {
      "image/png": "[encoded data removed]",
      "text/plain": [
       "<Figure size 432x288 with 1 Axes>"
      ]
     },
     "metadata": {
      "image/png": {
       "height": 263,
       "width": 380
      },
      "needs_background": "light"
     },
     "output_type": "display_data"
    }
   ],
   "source": [
    "sils = get_metric_stats(df, 'sil')\n",
    "sils.boxplot()\n",
    "plt.title(\"Silhouette index\")\n",
    "plt.savefig(\"real_sil\", dpi=300)"
   ]
  },
  {
   "cell_type": "code",
   "execution_count": 181,
   "id": "visible-quebec",
   "metadata": {},
   "outputs": [],
   "source": [
    "df = pd.read_csv(\"synt_scores.csv\")\n",
    "res = transform(df, metrics)\n",
    "# res.to_csv(\"synt_data_mean_scores1.csv\")"
   ]
  },
  {
   "cell_type": "code",
   "execution_count": 182,
   "id": "focused-nashville",
   "metadata": {},
   "outputs": [
    {
     "data": {
      "text/html": [
       "<div>\n",
       "<table border=\"1\" class=\"dataframe\">\n",
       "  <thead>\n",
       "    <tr style=\"text-align: right;\">\n",
       "      <th></th>\n",
       "      <th>sil</th>\n",
       "      <th>ch</th>\n",
       "      <th>gd41</th>\n",
       "      <th>os</th>\n",
       "    </tr>\n",
       "  </thead>\n",
       "  <tbody>\n",
       "    <tr>\n",
       "      <th>k-means</th>\n",
       "      <td>0.606793</td>\n",
       "      <td>1618.785967</td>\n",
       "      <td>0.038419</td>\n",
       "      <td>1.328350</td>\n",
       "    </tr>\n",
       "    <tr>\n",
       "      <th>lwea</th>\n",
       "      <td>0.380190</td>\n",
       "      <td>764.332597</td>\n",
       "      <td>0.020270</td>\n",
       "      <td>4.360719</td>\n",
       "    </tr>\n",
       "    <tr>\n",
       "      <th>monti</th>\n",
       "      <td>0.608744</td>\n",
       "      <td>782.135069</td>\n",
       "      <td>0.043501</td>\n",
       "      <td>8.228966</td>\n",
       "    </tr>\n",
       "    <tr>\n",
       "      <th>monti_fixed</th>\n",
       "      <td>0.605910</td>\n",
       "      <td>1617.709759</td>\n",
       "      <td>0.039255</td>\n",
       "      <td>1.331596</td>\n",
       "    </tr>\n",
       "    <tr>\n",
       "      <th>mv</th>\n",
       "      <td>0.609748</td>\n",
       "      <td>1299.324957</td>\n",
       "      <td>0.029591</td>\n",
       "      <td>1.630093</td>\n",
       "    </tr>\n",
       "  </tbody>\n",
       "</table>\n",
       "</div>"
      ],
      "text/plain": [
       "                  sil           ch      gd41        os\n",
       "k-means      0.606793  1618.785967  0.038419  1.328350\n",
       "lwea         0.380190   764.332597  0.020270  4.360719\n",
       "monti        0.608744   782.135069  0.043501  8.228966\n",
       "monti_fixed  0.605910  1617.709759  0.039255  1.331596\n",
       "mv           0.609748  1299.324957  0.029591  1.630093"
      ]
     },
     "execution_count": 182,
     "metadata": {},
     "output_type": "execute_result"
    }
   ],
   "source": [
    "res"
   ]
  },
  {
   "cell_type": "code",
   "execution_count": null,
   "id": "handy-tolerance",
   "metadata": {
    "tags": []
   },
   "outputs": [],
   "source": []
  },
  {
   "cell_type": "code",
   "execution_count": 25,
   "id": "united-dallas",
   "metadata": {},
   "outputs": [],
   "source": [
    "df = pd.read_csv(\"synt_scores.csv\")\n",
    "res = transform2(df, metrics)\n",
    "# res.to_csv(\"synt_data_mean_std_scores.csv\")"
   ]
  },
  {
   "cell_type": "code",
   "execution_count": 26,
   "id": "editorial-shape",
   "metadata": {},
   "outputs": [
    {
     "data": {
      "text/html": [
       "<div>\n",
       "<table border=\"1\" class=\"dataframe\">\n",
       "  <thead>\n",
       "    <tr style=\"text-align: right;\">\n",
       "      <th></th>\n",
       "      <th>sil</th>\n",
       "      <th>ch</th>\n",
       "      <th>gd41</th>\n",
       "      <th>os</th>\n",
       "    </tr>\n",
       "  </thead>\n",
       "  <tbody>\n",
       "    <tr>\n",
       "      <th>k-means</th>\n",
       "      <td>0.607 ± 0.111</td>\n",
       "      <td>1618.786 ± 855.850</td>\n",
       "      <td>0.038 ± 0.038</td>\n",
       "      <td>1.328 ± 0.930</td>\n",
       "    </tr>\n",
       "    <tr>\n",
       "      <th>lwea</th>\n",
       "      <td>0.380 ± 0.166</td>\n",
       "      <td>764.333 ± 568.652</td>\n",
       "      <td>0.020 ± 0.013</td>\n",
       "      <td>4.361 ± 9.501</td>\n",
       "    </tr>\n",
       "    <tr>\n",
       "      <th>monti</th>\n",
       "      <td>0.609 ± 0.128</td>\n",
       "      <td>782.135 ± 1056.082</td>\n",
       "      <td>0.044 ± 0.036</td>\n",
       "      <td>8.229 ± 7.225</td>\n",
       "    </tr>\n",
       "    <tr>\n",
       "      <th>monti_fixed</th>\n",
       "      <td>0.606 ± 0.111</td>\n",
       "      <td>1617.710 ± 855.793</td>\n",
       "      <td>0.039 ± 0.038</td>\n",
       "      <td>1.332 ± 0.920</td>\n",
       "    </tr>\n",
       "    <tr>\n",
       "      <th>mv</th>\n",
       "      <td>0.610 ± 0.125</td>\n",
       "      <td>1299.325 ± 926.113</td>\n",
       "      <td>0.030 ± 0.019</td>\n",
       "      <td>1.630 ± 3.218</td>\n",
       "    </tr>\n",
       "  </tbody>\n",
       "</table>\n",
       "</div>"
      ],
      "text/plain": [
       "                       sil                  ch           gd41             os\n",
       "k-means      0.607 ± 0.111  1618.786 ± 855.850  0.038 ± 0.038  1.328 ± 0.930\n",
       "lwea         0.380 ± 0.166   764.333 ± 568.652  0.020 ± 0.013  4.361 ± 9.501\n",
       "monti        0.609 ± 0.128  782.135 ± 1056.082  0.044 ± 0.036  8.229 ± 7.225\n",
       "monti_fixed  0.606 ± 0.111  1617.710 ± 855.793  0.039 ± 0.038  1.332 ± 0.920\n",
       "mv           0.610 ± 0.125  1299.325 ± 926.113  0.030 ± 0.019  1.630 ± 3.218"
      ]
     },
     "execution_count": 26,
     "metadata": {},
     "output_type": "execute_result"
    }
   ],
   "source": [
    "res"
   ]
  },
  {
   "cell_type": "code",
   "execution_count": 46,
   "id": "nuclear-pepper",
   "metadata": {},
   "outputs": [],
   "source": [
    "df = parse_df(pd.read_csv(\"synt_scores.csv\"))"
   ]
  },
  {
   "cell_type": "code",
   "execution_count": 47,
   "id": "forbidden-riding",
   "metadata": {},
   "outputs": [
    {
     "data": {
      "image/png": "[encoded data removed]",
      "text/plain": [
       "<Figure size 432x288 with 1 Axes>"
      ]
     },
     "metadata": {
      "image/png": {
       "height": 263,
       "width": 372
      },
      "needs_background": "light"
     },
     "output_type": "display_data"
    }
   ],
   "source": [
    "df = df.drop([\"monti_fixed\"], axis=1)\n",
    "sils = get_metric_stats(df, 'sil')\n",
    "sils.boxplot()\n",
    "plt.title(\"Silhouette index\")\n",
    "plt.savefig(\"synt_sil\", dpi=300)"
   ]
  },
  {
   "cell_type": "code",
   "execution_count": 195,
   "id": "cultural-gregory",
   "metadata": {},
   "outputs": [],
   "source": []
  },
  {
   "cell_type": "code",
   "execution_count": 51,
   "id": "motivated-transportation",
   "metadata": {},
   "outputs": [],
   "source": [
    "df = pd.read_csv(\"synt_scores_final.csv\")\n",
    "res = transform2(df, metrics)"
   ]
  },
  {
   "cell_type": "code",
   "execution_count": 52,
   "id": "engaging-python",
   "metadata": {},
   "outputs": [
    {
     "data": {
      "text/html": [
       "<div>\n",
       "<table border=\"1\" class=\"dataframe\">\n",
       "  <thead>\n",
       "    <tr style=\"text-align: right;\">\n",
       "      <th></th>\n",
       "      <th>sil</th>\n",
       "      <th>ch</th>\n",
       "      <th>gd41</th>\n",
       "      <th>os</th>\n",
       "    </tr>\n",
       "  </thead>\n",
       "  <tbody>\n",
       "    <tr>\n",
       "      <th>k-means</th>\n",
       "      <td>0.731 ± 0.101</td>\n",
       "      <td>1767.065 ± 619.199</td>\n",
       "      <td>0.077 ± 0.043</td>\n",
       "      <td>0.284 ± 0.566</td>\n",
       "    </tr>\n",
       "    <tr>\n",
       "      <th>lwea</th>\n",
       "      <td>0.254 ± 0.355</td>\n",
       "      <td>605.553 ± 935.578</td>\n",
       "      <td>0.045 ± 0.046</td>\n",
       "      <td>0.480 ± 1.388</td>\n",
       "    </tr>\n",
       "    <tr>\n",
       "      <th>lwea_tuned</th>\n",
       "      <td>0.655 ± 0.279</td>\n",
       "      <td>1583.971 ± 738.148</td>\n",
       "      <td>0.072 ± 0.046</td>\n",
       "      <td>0.097 ± 0.165</td>\n",
       "    </tr>\n",
       "    <tr>\n",
       "      <th>monti</th>\n",
       "      <td>0.543 ± 0.164</td>\n",
       "      <td>631.719 ± 902.611</td>\n",
       "      <td>0.053 ± 0.039</td>\n",
       "      <td>7.317 ± 6.852</td>\n",
       "    </tr>\n",
       "    <tr>\n",
       "      <th>monti_tuned</th>\n",
       "      <td>0.755 ± 0.071</td>\n",
       "      <td>1698.951 ± 651.880</td>\n",
       "      <td>0.075 ± 0.044</td>\n",
       "      <td>0.735 ± 3.417</td>\n",
       "    </tr>\n",
       "  </tbody>\n",
       "</table>\n",
       "</div>"
      ],
      "text/plain": [
       "                       sil                  ch           gd41             os\n",
       "k-means      0.731 ± 0.101  1767.065 ± 619.199  0.077 ± 0.043  0.284 ± 0.566\n",
       "lwea         0.254 ± 0.355   605.553 ± 935.578  0.045 ± 0.046  0.480 ± 1.388\n",
       "lwea_tuned   0.655 ± 0.279  1583.971 ± 738.148  0.072 ± 0.046  0.097 ± 0.165\n",
       "monti        0.543 ± 0.164   631.719 ± 902.611  0.053 ± 0.039  7.317 ± 6.852\n",
       "monti_tuned  0.755 ± 0.071  1698.951 ± 651.880  0.075 ± 0.044  0.735 ± 3.417"
      ]
     },
     "execution_count": 52,
     "metadata": {},
     "output_type": "execute_result"
    }
   ],
   "source": [
    "res.to_csv(\"smac_means.csv\")\n",
    "res"
   ]
  },
  {
   "cell_type": "code",
   "execution_count": 53,
   "id": "express-latvia",
   "metadata": {},
   "outputs": [
    {
     "data": {
      "image/png": "[encoded data removed]",
      "text/plain": [
       "<Figure size 432x288 with 1 Axes>"
      ]
     },
     "metadata": {
      "image/png": {
       "height": 264,
       "width": 380
      },
      "needs_background": "light"
     },
     "output_type": "display_data"
    }
   ],
   "source": [
    "sils = get_metric_stats(df, 'sil')\n",
    "plt.title(\"Silhouette index\")\n",
    "sils.boxplot()\n",
    "plt.savefig(\"smac_sil\", dpi=300)"
   ]
  },
  {
   "cell_type": "code",
   "execution_count": null,
   "id": "third-politics",
   "metadata": {},
   "outputs": [],
   "source": []
  }
 ],
 "metadata": {
  "kernelspec": {
   "display_name": "Python 3",
   "language": "python",
   "name": "python3"
  },
  "language_info": {
   "codemirror_mode": {
    "name": "ipython",
    "version": 3
   },
   "file_extension": ".py",
   "mimetype": "text/x-python",
   "name": "python",
   "nbconvert_exporter": "python",
   "pygments_lexer": "ipython3",
   "version": "3.6.12"
  }
 },
 "nbformat": 4,
 "nbformat_minor": 5
}
