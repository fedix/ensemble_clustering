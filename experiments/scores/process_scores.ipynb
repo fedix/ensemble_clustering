{
 "cells": [
  {
   "cell_type": "code",
   "execution_count": 190,
   "id": "medical-president",
   "metadata": {},
   "outputs": [],
   "source": [
    "import pandas as pd\n",
    "import numpy as np\n",
    "import ast\n",
    "import matplotlib.pyplot as plt\n",
    "%config InlineBackend.figure_format ='retina'"
   ]
  },
  {
   "cell_type": "code",
   "execution_count": 177,
   "id": "emerging-relations",
   "metadata": {},
   "outputs": [],
   "source": [
    "def process(row):\n",
    "    row = str.replace(row, '[', '')\n",
    "    row = str.replace(row, ']', '')\n",
    "    lst = row.split()\n",
    "    return np.array(lst).astype(np.float)\n",
    "\n",
    "def parse_df(df):\n",
    "    for column in df.columns:\n",
    "        df[column] = df[column].apply(process)\n",
    "    return df"
   ]
  },
  {
   "cell_type": "code",
   "execution_count": 178,
   "id": "prepared-empty",
   "metadata": {},
   "outputs": [],
   "source": [
    "def transform(df, cols=metrics):\n",
    "    df = parse_df(df)\n",
    "    means = df.sum()/len(df)\n",
    "    \n",
    "    res = pd.DataFrame(np.stack(means), columns=cols)\n",
    "    res.index = means.index\n",
    "    return res\n",
    "\n",
    "\n",
    "def transform2(df, cols=metrics):\n",
    "    df = parse_df(df)\n",
    "        \n",
    "    res = pd.DataFrame()\n",
    "    for alg in df.columns:\n",
    "        tmp = pd.DataFrame(np.stack(df[alg]), columns=cols)\n",
    "        tmp = tmp.apply(lambda col: f\"{col.mean():.3f} ± {col.std():.3f}\")\n",
    "        res = res.append(pd.DataFrame(tmp).transpose())\n",
    "    res.index = df.columns\n",
    "    return res\n",
    "\n",
    "metrics = ['sil', 'ch', 'gd41', 'os']"
   ]
  },
  {
   "cell_type": "code",
   "execution_count": 185,
   "id": "responsible-talent",
   "metadata": {},
   "outputs": [],
   "source": [
    "def get_metric_stats(df, metric):\n",
    "    \n",
    "    metric_values = pd.DataFrame()\n",
    "    \n",
    "    for alg in df.columns:\n",
    "        metric_values[alg] = df[alg].apply(lambda a: a[metrics.index(metric)])\n",
    "    return metric_values"
   ]
  },
  {
   "cell_type": "code",
   "execution_count": 179,
   "id": "casual-literacy",
   "metadata": {},
   "outputs": [],
   "source": [
    "df = pd.read_csv(\"scores.csv\")\n",
    "res = transform(df, metrics)\n",
    "# res.to_csv(\"real_data_mean_scores1.csv\")"
   ]
  },
  {
   "cell_type": "code",
   "execution_count": 180,
   "id": "supposed-activation",
   "metadata": {},
   "outputs": [
    {
     "data": {
      "text/html": [
       "<div>\n",
       "<table border=\"1\" class=\"dataframe\">\n",
       "  <thead>\n",
       "    <tr style=\"text-align: right;\">\n",
       "      <th></th>\n",
       "      <th>sil</th>\n",
       "      <th>ch</th>\n",
       "      <th>gd41</th>\n",
       "      <th>os</th>\n",
       "    </tr>\n",
       "  </thead>\n",
       "  <tbody>\n",
       "    <tr>\n",
       "      <th>k-means</th>\n",
       "      <td>0.395302</td>\n",
       "      <td>800.095880</td>\n",
       "      <td>0.059078</td>\n",
       "      <td>21.767142</td>\n",
       "    </tr>\n",
       "    <tr>\n",
       "      <th>lwea</th>\n",
       "      <td>0.124767</td>\n",
       "      <td>247.157940</td>\n",
       "      <td>0.034533</td>\n",
       "      <td>30.634760</td>\n",
       "    </tr>\n",
       "    <tr>\n",
       "      <th>monti</th>\n",
       "      <td>0.418044</td>\n",
       "      <td>625.724285</td>\n",
       "      <td>0.081594</td>\n",
       "      <td>127.670902</td>\n",
       "    </tr>\n",
       "    <tr>\n",
       "      <th>monti_fixed</th>\n",
       "      <td>0.348259</td>\n",
       "      <td>756.368104</td>\n",
       "      <td>0.047771</td>\n",
       "      <td>27.889698</td>\n",
       "    </tr>\n",
       "  </tbody>\n",
       "</table>\n",
       "</div>"
      ],
      "text/plain": [
       "                  sil          ch      gd41          os\n",
       "k-means      0.395302  800.095880  0.059078   21.767142\n",
       "lwea         0.124767  247.157940  0.034533   30.634760\n",
       "monti        0.418044  625.724285  0.081594  127.670902\n",
       "monti_fixed  0.348259  756.368104  0.047771   27.889698"
      ]
     },
     "execution_count": 180,
     "metadata": {},
     "output_type": "execute_result"
    }
   ],
   "source": [
    "res"
   ]
  },
  {
   "cell_type": "code",
   "execution_count": 181,
   "id": "removable-blade",
   "metadata": {},
   "outputs": [],
   "source": [
    "df = pd.read_csv(\"synt_scores.csv\")\n",
    "res = transform(df, metrics)\n",
    "# res.to_csv(\"synt_data_mean_scores1.csv\")"
   ]
  },
  {
   "cell_type": "code",
   "execution_count": 182,
   "id": "cooked-foster",
   "metadata": {},
   "outputs": [
    {
     "data": {
      "text/html": [
       "<div>\n",
       "<table border=\"1\" class=\"dataframe\">\n",
       "  <thead>\n",
       "    <tr style=\"text-align: right;\">\n",
       "      <th></th>\n",
       "      <th>sil</th>\n",
       "      <th>ch</th>\n",
       "      <th>gd41</th>\n",
       "      <th>os</th>\n",
       "    </tr>\n",
       "  </thead>\n",
       "  <tbody>\n",
       "    <tr>\n",
       "      <th>k-means</th>\n",
       "      <td>0.606793</td>\n",
       "      <td>1618.785967</td>\n",
       "      <td>0.038419</td>\n",
       "      <td>1.328350</td>\n",
       "    </tr>\n",
       "    <tr>\n",
       "      <th>lwea</th>\n",
       "      <td>0.380190</td>\n",
       "      <td>764.332597</td>\n",
       "      <td>0.020270</td>\n",
       "      <td>4.360719</td>\n",
       "    </tr>\n",
       "    <tr>\n",
       "      <th>monti</th>\n",
       "      <td>0.608744</td>\n",
       "      <td>782.135069</td>\n",
       "      <td>0.043501</td>\n",
       "      <td>8.228966</td>\n",
       "    </tr>\n",
       "    <tr>\n",
       "      <th>monti_fixed</th>\n",
       "      <td>0.605910</td>\n",
       "      <td>1617.709759</td>\n",
       "      <td>0.039255</td>\n",
       "      <td>1.331596</td>\n",
       "    </tr>\n",
       "    <tr>\n",
       "      <th>mv</th>\n",
       "      <td>0.609748</td>\n",
       "      <td>1299.324957</td>\n",
       "      <td>0.029591</td>\n",
       "      <td>1.630093</td>\n",
       "    </tr>\n",
       "  </tbody>\n",
       "</table>\n",
       "</div>"
      ],
      "text/plain": [
       "                  sil           ch      gd41        os\n",
       "k-means      0.606793  1618.785967  0.038419  1.328350\n",
       "lwea         0.380190   764.332597  0.020270  4.360719\n",
       "monti        0.608744   782.135069  0.043501  8.228966\n",
       "monti_fixed  0.605910  1617.709759  0.039255  1.331596\n",
       "mv           0.609748  1299.324957  0.029591  1.630093"
      ]
     },
     "execution_count": 182,
     "metadata": {},
     "output_type": "execute_result"
    }
   ],
   "source": [
    "res"
   ]
  },
  {
   "cell_type": "code",
   "execution_count": null,
   "id": "wanted-madison",
   "metadata": {
    "tags": []
   },
   "outputs": [],
   "source": []
  },
  {
   "cell_type": "code",
   "execution_count": 183,
   "id": "excited-cigarette",
   "metadata": {},
   "outputs": [],
   "source": [
    "df = pd.read_csv(\"synt_scores.csv\")\n",
    "res = transform2(df, metrics)\n",
    "# res.to_csv(\"synt_data_mean_std_scores.csv\")"
   ]
  },
  {
   "cell_type": "code",
   "execution_count": 184,
   "id": "temporal-blond",
   "metadata": {},
   "outputs": [
    {
     "data": {
      "text/html": [
       "<div>\n",
       "<table border=\"1\" class=\"dataframe\">\n",
       "  <thead>\n",
       "    <tr style=\"text-align: right;\">\n",
       "      <th></th>\n",
       "      <th>sil</th>\n",
       "      <th>ch</th>\n",
       "      <th>gd41</th>\n",
       "      <th>os</th>\n",
       "    </tr>\n",
       "  </thead>\n",
       "  <tbody>\n",
       "    <tr>\n",
       "      <th>k-means</th>\n",
       "      <td>0.607 ± 0.111</td>\n",
       "      <td>1618.786 ± 855.850</td>\n",
       "      <td>0.038 ± 0.038</td>\n",
       "      <td>1.328 ± 0.930</td>\n",
       "    </tr>\n",
       "    <tr>\n",
       "      <th>lwea</th>\n",
       "      <td>0.380 ± 0.166</td>\n",
       "      <td>764.333 ± 568.652</td>\n",
       "      <td>0.020 ± 0.013</td>\n",
       "      <td>4.361 ± 9.501</td>\n",
       "    </tr>\n",
       "    <tr>\n",
       "      <th>monti</th>\n",
       "      <td>0.609 ± 0.128</td>\n",
       "      <td>782.135 ± 1056.082</td>\n",
       "      <td>0.044 ± 0.036</td>\n",
       "      <td>8.229 ± 7.225</td>\n",
       "    </tr>\n",
       "    <tr>\n",
       "      <th>monti_fixed</th>\n",
       "      <td>0.606 ± 0.111</td>\n",
       "      <td>1617.710 ± 855.793</td>\n",
       "      <td>0.039 ± 0.038</td>\n",
       "      <td>1.332 ± 0.920</td>\n",
       "    </tr>\n",
       "    <tr>\n",
       "      <th>mv</th>\n",
       "      <td>0.610 ± 0.125</td>\n",
       "      <td>1299.325 ± 926.113</td>\n",
       "      <td>0.030 ± 0.019</td>\n",
       "      <td>1.630 ± 3.218</td>\n",
       "    </tr>\n",
       "  </tbody>\n",
       "</table>\n",
       "</div>"
      ],
      "text/plain": [
       "                       sil                  ch           gd41             os\n",
       "k-means      0.607 ± 0.111  1618.786 ± 855.850  0.038 ± 0.038  1.328 ± 0.930\n",
       "lwea         0.380 ± 0.166   764.333 ± 568.652  0.020 ± 0.013  4.361 ± 9.501\n",
       "monti        0.609 ± 0.128  782.135 ± 1056.082  0.044 ± 0.036  8.229 ± 7.225\n",
       "monti_fixed  0.606 ± 0.111  1617.710 ± 855.793  0.039 ± 0.038  1.332 ± 0.920\n",
       "mv           0.610 ± 0.125  1299.325 ± 926.113  0.030 ± 0.019  1.630 ± 3.218"
      ]
     },
     "execution_count": 184,
     "metadata": {},
     "output_type": "execute_result"
    }
   ],
   "source": [
    "res"
   ]
  },
  {
   "cell_type": "code",
   "execution_count": 188,
   "id": "metropolitan-newton",
   "metadata": {},
   "outputs": [],
   "source": [
    "df = parse_df(pd.read_csv(\"synt_scores.csv\"))"
   ]
  },
  {
   "cell_type": "code",
   "execution_count": 197,
   "id": "certified-martin",
   "metadata": {},
   "outputs": [
    {
     "data": {
      "text/plain": [
       "<matplotlib.axes._subplots.AxesSubplot at 0x7fb224ed1f60>"
      ]
     },
     "execution_count": 197,
     "metadata": {},
     "output_type": "execute_result"
    },
    {
     "data": {
      "image/png": "[encoded data removed]",
      "text/plain": [
       "<Figure size 432x288 with 1 Axes>"
      ]
     },
     "metadata": {
      "image/png": {
       "height": 252,
       "width": 374
      }
     },
     "output_type": "display_data"
    }
   ],
   "source": [
    "sils = get_metric_stats(df, 'sil')\n",
    "sils.boxplot()"
   ]
  },
  {
   "cell_type": "code",
   "execution_count": 195,
   "id": "understood-conducting",
   "metadata": {},
   "outputs": [],
   "source": [
    "import seaborn as sns\n",
    "sns.set()"
   ]
  },
  {
   "cell_type": "code",
   "execution_count": 196,
   "id": "motivated-baking",
   "metadata": {},
   "outputs": [
    {
     "data": {
      "text/plain": [
       "<matplotlib.axes._subplots.AxesSubplot at 0x7fb2270ae710>"
      ]
     },
     "execution_count": 196,
     "metadata": {},
     "output_type": "execute_result"
    },
    {
     "data": {
      "image/png": "[encoded data removed]",
      "text/plain": [
       "<Figure size 432x288 with 1 Axes>"
      ]
     },
     "metadata": {
      "image/png": {
       "height": 251,
       "width": 374
      }
     },
     "output_type": "display_data"
    }
   ],
   "source": [
    "sns.boxplot(data=sils)"
   ]
  },
  {
   "cell_type": "code",
   "execution_count": null,
   "id": "previous-affiliation",
   "metadata": {},
   "outputs": [],
   "source": []
  }
 ],
 "metadata": {
  "kernelspec": {
   "display_name": "Python 3",
   "language": "python",
   "name": "python3"
  },
  "language_info": {
   "codemirror_mode": {
    "name": "ipython",
    "version": 3
   },
   "file_extension": ".py",
   "mimetype": "text/x-python",
   "name": "python",
   "nbconvert_exporter": "python",
   "pygments_lexer": "ipython3",
   "version": "3.6.12"
  }
 },
 "nbformat": 4,
 "nbformat_minor": 5
}
